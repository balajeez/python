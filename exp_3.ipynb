{
  "nbformat": 4,
  "nbformat_minor": 0,
  "metadata": {
    "colab": {
      "provenance": []
    },
    "kernelspec": {
      "name": "python3",
      "display_name": "Python 3"
    },
    "language_info": {
      "name": "python"
    }
  },
  "cells": [
    {
      "cell_type": "code",
      "execution_count": 3,
      "metadata": {
        "id": "t_BmVPsGD3Qi",
        "colab": {
          "base_uri": "https://localhost:8080/"
        },
        "outputId": "a4a9a13b-94a4-4105-f233-2f129cf2cb1b"
      },
      "outputs": [
        {
          "output_type": "stream",
          "name": "stdout",
          "text": [
            "My name is Gian and I am 19 years old\n"
          ]
        }
      ],
      "source": [
        "#class and object\n",
        "class person:\n",
        "  def __init__(self,name,age):\n",
        "    self.name = name\n",
        "    self.age = age\n",
        "  def introduce(self):\n",
        "     print(\"My name is\",self.name,\"and I am\",self.age,\"years old\")\n",
        "person1 = person(\"Gian\",19)\n",
        "person1.introduce()"
      ]
    },
    {
      "cell_type": "code",
      "source": [
        "#functions\n",
        "def multiply(a,b):\n",
        "  return a*b\n",
        "result = multiply(7,3)\n",
        "print(result)"
      ],
      "metadata": {
        "id": "RpgDJHgYLV9L"
      },
      "execution_count": null,
      "outputs": []
    }
  ]
}