{
  "nbformat": 4,
  "nbformat_minor": 0,
  "metadata": {
    "colab": {
      "provenance": [],
      "authorship_tag": "ABX9TyMAqyRxqA5kBB0ZQFrlJEu4",
      "include_colab_link": true
    },
    "kernelspec": {
      "name": "python3",
      "display_name": "Python 3"
    },
    "language_info": {
      "name": "python"
    }
  },
  "cells": [
    {
      "cell_type": "markdown",
      "metadata": {
        "id": "view-in-github",
        "colab_type": "text"
      },
      "source": [
        "<a href=\"https://colab.research.google.com/github/balajeez/python/blob/main/exp2_Loop.ipynb\" target=\"_parent\"><img src=\"https://colab.research.google.com/assets/colab-badge.svg\" alt=\"Open In Colab\"/></a>"
      ]
    },
    {
      "cell_type": "code",
      "execution_count": null,
      "metadata": {
        "colab": {
          "base_uri": "https://localhost:8080/"
        },
        "id": "axY2SQCF_Hww",
        "outputId": "d246d3ea-8798-49a2-d56f-1d06a4baae76"
      },
      "outputs": [
        {
          "output_type": "stream",
          "name": "stdout",
          "text": [
            "It is a Super-car\n"
          ]
        }
      ],
      "source": [
        "#if-else statement\n",
        "max_speed = 360\n",
        "if max_speed >= 300:\n",
        "  print(\"It is a Super-car\")\n",
        "else:\n",
        "  print(\"It is  Normal Whip\")"
      ]
    },
    {
      "cell_type": "code",
      "source": [
        "#for loop\n",
        "cars = [\"merc\",\"lambo\",\"jeep\"]\n",
        "for car in cars:\n",
        "  print(car)"
      ],
      "metadata": {
        "colab": {
          "base_uri": "https://localhost:8080/"
        },
        "id": "MhRRtg0FAX33",
        "outputId": "784f9bf0-c06c-4e57-bdc5-0c0444f08cf9"
      },
      "execution_count": null,
      "outputs": [
        {
          "output_type": "stream",
          "name": "stdout",
          "text": [
            "merc\n",
            "lambo\n",
            "jeep\n"
          ]
        }
      ]
    },
    {
      "cell_type": "code",
      "source": [
        "#while loop\n",
        "max_speed = 100\n",
        "while max_speed <= 500:\n",
        "  print(max_speed)\n",
        "  max_speed += 100"
      ],
      "metadata": {
        "colab": {
          "base_uri": "https://localhost:8080/"
        },
        "id": "vwikizqsBw7u",
        "outputId": "cd25528c-cc0b-42f4-acb8-a8f5d6b846b6"
      },
      "execution_count": null,
      "outputs": [
        {
          "output_type": "stream",
          "name": "stdout",
          "text": [
            "100\n",
            "200\n",
            "300\n",
            "400\n",
            "500\n"
          ]
        }
      ]
    },
    {
      "cell_type": "code",
      "source": [],
      "metadata": {
        "id": "euDp2i4HCWpd"
      },
      "execution_count": null,
      "outputs": []
    }
  ]
}