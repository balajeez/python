{
  "nbformat": 4,
  "nbformat_minor": 0,
  "metadata": {
    "colab": {
      "provenance": [],
      "authorship_tag": "ABX9TyNqGNqOgm9KplVR+1zMP7X0",
      "include_colab_link": true
    },
    "kernelspec": {
      "name": "python3",
      "display_name": "Python 3"
    },
    "language_info": {
      "name": "python"
    }
  },
  "cells": [
    {
      "cell_type": "markdown",
      "metadata": {
        "id": "view-in-github",
        "colab_type": "text"
      },
      "source": [
        "<a href=\"https://colab.research.google.com/github/balajeez/python/blob/main/exp8.ipynb\" target=\"_parent\"><img src=\"https://colab.research.google.com/assets/colab-badge.svg\" alt=\"Open In Colab\"/></a>"
      ]
    },
    {
      "cell_type": "code",
      "execution_count": null,
      "metadata": {
        "id": "a8hWkpfe1qDB"
      },
      "outputs": [],
      "source": [
        "<!DOCTYPE html>\n",
        "<html lang=\"en\">\n",
        "<head>\n",
        "<meta charset=\"UTF-8\">\n",
        "<title>Index</title>\n",
        "</head>\n",
        "<body>\n",
        "<form method=\"POST\" class=\"post-form\" enctype=\"multipart/form-data\">\n",
        "{% csrf_token %}\n",
        "{{ form.as_p }}\n",
        "<button type=\"submit\" class=\"save btn btn-default\">Save</button>\n",
        "</form>\n",
        "</body> </html> def emp(request):\n",
        "if request.method == \"POST\":\n",
        "form = EmployeeForm (request.POST) if form.is_valid ():\n",
        "try: return redirect ('/') except:\n",
        "pass\n",
        "else:\n",
        "form = EmployeeForm ()\n",
        "return render (request,'index.html',{'form':form}) from django import forms from\n",
        "myapp.models import Employee\n",
        "\n",
        "class EmployeeForm (forms.ModelForm): class Meta:\n",
        "\n",
        "\n",
        "\n",
        "\n",
        "model = Employee fields = \" all \"\n",
        "from django.db import models class Employee (models.Model):\n",
        "eid = models.CharField (max_length=20) ename = models.CharField (max_length=100) econtact = models.CharField (max_length=15) class Meta:\n",
        "db_table = \"employee\""
      ]
    }
  ]
}