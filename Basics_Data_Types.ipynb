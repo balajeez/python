{
  "nbformat": 4,
  "nbformat_minor": 0,
  "metadata": {
    "colab": {
      "provenance": []
    },
    "kernelspec": {
      "name": "python3",
      "display_name": "Python 3"
    },
    "language_info": {
      "name": "python"
    }
  },
  "cells": [
    {
      "cell_type": "code",
      "execution_count": null,
      "metadata": {
        "colab": {
          "base_uri": "https://localhost:8080/"
        },
        "id": "lFqRA92f6RLS",
        "outputId": "cd07b6a3-6875-40f9-df7b-07794f4aa2b4"
      },
      "outputs": [
        {
          "output_type": "stream",
          "name": "stdout",
          "text": [
            "My name is Max Verstappen\n"
          ]
        }
      ],
      "source": [
        "#string\n",
        "name = \"Max Verstappen\"\n",
        "print(\"My name is \"+name)"
      ]
    },
    {
      "cell_type": "code",
      "source": [
        "#List\n",
        "cars = [\"Merc\",\"Ferari\",\"G-Wagon\",\"Range Rover\"]\n",
        "print(cars)"
      ],
      "metadata": {
        "colab": {
          "base_uri": "https://localhost:8080/"
        },
        "id": "lhdbyhVJ7FJc",
        "outputId": "0c258bf2-148e-4914-8dd4-db7bead23032"
      },
      "execution_count": null,
      "outputs": [
        {
          "output_type": "stream",
          "name": "stdout",
          "text": [
            "['Merc', 'Ferari', 'G-Wagon', 'Range Rover']\n"
          ]
        }
      ]
    },
    {
      "cell_type": "code",
      "source": [
        "#Dictionary\n",
        "car = {\"name\":\"Merc\",\"color\":\"Red\",\"model\": \"Maybach\"}\n",
        "print(car)"
      ],
      "metadata": {
        "colab": {
          "base_uri": "https://localhost:8080/"
        },
        "id": "zDxBaNDh7lTb",
        "outputId": "9f16ab3c-14db-4aac-d142-ef93bff77225"
      },
      "execution_count": null,
      "outputs": [
        {
          "output_type": "stream",
          "name": "stdout",
          "text": [
            "{'name': 'Merc', 'color': 'Red', 'model': 'Maybach'}\n"
          ]
        }
      ]
    },
    {
      "cell_type": "code",
      "source": [
        "#Tuple\n",
        "cars = ('Maybach', 'Aston Martin', 'Mustang')\n",
        "print(cars)"
      ],
      "metadata": {
        "colab": {
          "base_uri": "https://localhost:8080/"
        },
        "id": "ot3oUdJe9VQt",
        "outputId": "18a26bba-1500-438c-db88-eaf5361deda4"
      },
      "execution_count": null,
      "outputs": [
        {
          "output_type": "stream",
          "name": "stdout",
          "text": [
            "('Maybach', 'Aston Martin', 'Mustang')\n"
          ]
        }
      ]
    },
    {
      "cell_type": "code",
      "source": [],
      "metadata": {
        "id": "nUw4Crfr-bvc"
      },
      "execution_count": null,
      "outputs": []
    }
  ]
}