{
  "nbformat": 4,
  "nbformat_minor": 0,
  "metadata": {
    "colab": {
      "provenance": [],
      "toc_visible": true,
      "include_colab_link": true
    },
    "kernelspec": {
      "name": "python3",
      "display_name": "Python 3"
    },
    "language_info": {
      "name": "python"
    }
  },
  "cells": [
    {
      "cell_type": "markdown",
      "metadata": {
        "id": "view-in-github",
        "colab_type": "text"
      },
      "source": [
        "<a href=\"https://colab.research.google.com/github/balajeez/python/blob/main/exp7.ipynb\" target=\"_parent\"><img src=\"https://colab.research.google.com/assets/colab-badge.svg\" alt=\"Open In Colab\"/></a>"
      ]
    },
    {
      "cell_type": "code",
      "source": [
        "import mysql.connector\n",
        "mydatabase = mysql.connector.connect(\n",
        "    host = \"localhost\",\n",
        "    user = \"root\",\n",
        "    password = \"root\"\n",
        ")\n",
        "mycursor = mydatabase.cursor()\n",
        "mycursor.execute(\"CREATE DATABASE mydatabase\")\n",
        "mycursor.execute(\"SHOW DATABASES\")\n",
        "\n",
        "for i in mycursor:\n",
        "    print(i)\n",
        "mycursor = mydatabase.cursor()\n",
        "\n",
        "mydatabase.close()"
      ],
      "metadata": {
        "id": "ThbGhI2LQaoO"
      },
      "execution_count": null,
      "outputs": []
    },
    {
      "cell_type": "markdown",
      "source": [
        "('class',)  \n",
        "('electricity_bill_management',)  \n",
        "('information_schema',)\n",
        "('mydatabase',)\n",
        "('mysql',)  \n",
        "('performance_schema',)\n",
        "('sakila',)\n",
        "('sys',)  \n",
        "('world',)  "
      ],
      "metadata": {
        "id": "6pxf6zK1Qhe5"
      }
    },
    {
      "cell_type": "code",
      "source": [
        "db = mysql.connector.connect(\n",
        "    host=\"localhost\",\n",
        "    user=\"root\",\n",
        "    passwd=\"root\",\n",
        "    database=\"mydatabase\"\n",
        ")\n",
        "\n",
        "c = db.cursor()\n",
        "\n",
        "employeetbl_create = \"\"\"CREATE TABLE `mydatabase`.`tblemployee` (\n",
        "  `empid` INT NOT NULL AUTO_INCREMENT,\n",
        "  `empname` VARCHAR(45) NULL,\n",
        "  `department` VARCHAR(45) NULL,\n",
        "  `salary` INT NULL,\n",
        "   PRIMARY KEY (`empid`))\"\"\"\n",
        "\n",
        "c.execute(employeetbl_create)\n",
        "\n",
        "c = db.cursor()\n",
        "\n",
        "c.execute(\"desc tblemployee\")\n",
        "\n",
        "for i in c:\n",
        "    print(i)\n",
        "\n",
        "db.close()"
      ],
      "metadata": {
        "id": "JYHjtz-SQvCn"
      },
      "execution_count": null,
      "outputs": []
    },
    {
      "cell_type": "markdown",
      "source": [
        "('empid', 'int', 'NO', 'PRI', None, 'auto_increment')                            \n",
        "('empname', 'varchar(45)', 'YES', '', None, '')                                  \n",
        "('department', 'varchar(45)', 'YES', '', None, '')                               \n",
        "('salary', 'int', 'YES', '', None, '')"
      ],
      "metadata": {
        "id": "BdhufvlDQ_Me"
      }
    },
    {
      "cell_type": "code",
      "source": [
        "db = mysql.connector.connect(\n",
        "    host=\"localhost\",\n",
        "    user=\"root\",\n",
        "    passwd=\"root\",\n",
        "    database=\"mydatabase\"\n",
        ")\n",
        "\n",
        "c = db.cursor()\n",
        "\n",
        "employeetbl_insert = \"\"\"INSERT INTO tblemployee (\n",
        "   empname,\n",
        "   department,\n",
        "   salary)\n",
        "   VALUES  (%s, %s, %s)\"\"\"\n",
        "\n",
        "data = [(\"Vighnesh\", \"HR\", \"200000\"),\n",
        "        (\"Krishna\", \"Accounts\", \"70000\"),\n",
        "        (\"Aditi\", \"Sales\", \"35000\"),\n",
        "        (\"Govinda\", \"Marketing\", \"50000\")]\n",
        "\n",
        "c.executemany(employeetbl_insert, data)\n",
        "db.commit()\n",
        "\n",
        "db.close()"
      ],
      "metadata": {
        "id": "4ONXJx9vQrMf"
      },
      "execution_count": null,
      "outputs": []
    },
    {
      "cell_type": "markdown",
      "source": [],
      "metadata": {
        "id": "5OpLTTLzRdOk"
      }
    },
    {
      "cell_type": "code",
      "source": [
        "db = mysql.connector.connect(\n",
        "    host=\"localhost\",\n",
        "    user=\"root\",\n",
        "    passwd=\"sahil@123\",\n",
        "    database=\"mydatabase\"\n",
        ")\n",
        "\n",
        "c = db.cursor()\n",
        "\n",
        "employeetbl_select = \"\"\"SELECT * FROM tblemployee\"\"\"\n",
        "\n",
        "c.execute(employeetbl_select)\n",
        "\n",
        "employee_data = c.fetchall()\n",
        "\n",
        "for e in employee_data:\n",
        "    print(e)\n",
        "\n",
        "db.close()"
      ],
      "metadata": {
        "id": "CfhhfgwRQnXc"
      },
      "execution_count": null,
      "outputs": []
    },
    {
      "cell_type": "markdown",
      "source": [
        "(1, 'Vighnesh', 'HR', 200000)    \n",
        "(2, 'Krishna', 'Accounts', 70000)    \n",
        "(3, 'Aditi', 'Sales', 35000)    \n",
        "(4, 'Govinda', 'Marketing', 50000)"
      ],
      "metadata": {
        "id": "HWIYxkwlRi2s"
      }
    },
    {
      "cell_type": "code",
      "source": [
        "import mysql.connector\n",
        "\n",
        "db = mysql.connector.connect(\n",
        "    host=\"localhost\",\n",
        "    user=\"root\",\n",
        "    passwd=\"root\",\n",
        "    database=\"mydatabase\"\n",
        ")\n",
        "\n",
        "c = db.cursor()\n",
        "\n",
        "employeetbl_update = \"UPDATE tblemployee SET salary = 115000 WHERE empid = 1\"\n",
        "c.execute(employeetbl_update)\n",
        "\n",
        "db.commit()\n",
        "\n",
        "db.close()"
      ],
      "metadata": {
        "id": "1QwlZuEmRqnx"
      },
      "execution_count": null,
      "outputs": []
    },
    {
      "cell_type": "code",
      "source": [
        "db = mysql.connector.connect(\n",
        "\thost=\"localhost\",\n",
        "\tuser=\"root\",\n",
        "\tpasswd=\"root\",\n",
        "\tdatabase=\"mydatabase\"\n",
        ")\n",
        "\n",
        "c = db.cursor()\n",
        "\n",
        "employeetbl_delete = \"DELETE FROM tblemployee WHERE empid=2\"\n",
        "\n",
        "c.execute(employeetbl_delete)\n",
        "db.commit()\n",
        "\n",
        "db.close()"
      ],
      "metadata": {
        "id": "hoCOMVJcRtTB"
      },
      "execution_count": null,
      "outputs": []
    }
  ]
}